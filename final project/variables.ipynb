{
 "cells": [
  {
   "cell_type": "markdown",
   "id": "1fc3c47c-05fb-4db3-9a0f-333b4db66098",
   "metadata": {},
   "source": [
    "## List of Variables:"
   ]
  },
  {
   "cell_type": "markdown",
   "id": "603c7e09-bc84-45aa-80b8-c19bd540886d",
   "metadata": {},
   "source": [
    "| **Name**                                                   | **Codes/Values**                                                                                      | **Abbreviation**      |\n",
    "|------------------------------------------------------------|-------------------------------------------------------------------------------------------------------|-----------------------|\n",
    "| Age                                                        | years                                                                                                 | Age                   |\n",
    "| Female sex                                                 | yes/no                                                                                                | Female                |\n",
    "| Race                                                       | African American, Caucasian, Other                                                                    | Race                  |\n",
    "| Body mass index                                            | (kg/m^2)                                                                                              | BMI                   |\n",
    "| Time spent at Sao2 < 90%                                   | % of total sleep time                                                                                 | Sleeptime             |\n",
    "| Minimum nocturnal Sao2                                     | %                                                                                                     | Min Sao2              |\n",
    "| Apnea/Hypopnea index (AHI)                                 | AHI < 5, 5 <= AHI < 15, 15 <= AHI < 30, AHI >= 30                                                     | AHI                   |\n",
    "| Current smoker                                             | yes/no                                                                                                | Smoking               |\n",
    "| Diabetes                                                   | yes/no                                                                                                | Diabetes              |\n",
    "| Hypertension                                               | yes/no                                                                                                | Hyper                 |\n",
    "| Coronary artery disease                                    | yes/no                                                                                                | CAD                   |\n",
    "| Antihypertensive medication                                | yes/no                                                                                                | Preop AntiHyper Med   |\n",
    "| Continuous positive airway pressure therapy                | yes/no                                                                                                | CPAP                  |\n",
    "| Type of surgery                                            | gastroenterostomy, gastric restrictive procedure, gastroplasty, removal of gastric restrictive device | Type Surg             |\n",
    "| Duration of surgery                                        | hours                                                                                                 | Duration Surg         |\n",
    "| Duration of surgery from ET incubation to trocar insertion | hours                                                                                                 | Duration Surg1        |\n",
    "| Duration of surgery from trocar insertion to end of case   | hours                                                                                                 | Duration Surg2        |\n",
    "| TWA of MAP during surgery                                  | mmHg                                                                                                  | TWA MAP               |\n",
    "| TWA of MAP from ET incubation to trocar insertion          | mmHg                                                                                                  | TWA MAP1              |\n",
    "| TWA of MAP from trocar insertion to end of case            | mmHg                                                                                                  | TWA MAP2              |\n",
    "| TWA of heart rate during surgery                           | beats/min                                                                                             | TWA HR                |\n",
    "| TWA of heart rate from ET incubation to trocar insertion | beats/min                                                                                             | TWA HR1               |\n",
    "| TWA of heart rate from trocar insertion to end of case   | beats/min                                                                                             | TWA HR2               |\n",
    "| Antihyperintensive medications                             | yes/no                                                                                                | Intraop AntiHyper Med |\n",
    "| Usage of vasopressors                                      | yes/no                                                                                                | Vasopressor           |\n",
    "| Usage of ephedrine                                         | yes/no                                                                                                | Ephedrine             |\n",
    "| Ephedrine                                                  | mg                                                                                                    | Ephedrine Amt         |\n",
    "| Usage of epinephrine                                       | yes/no                                                                                                | Epinephrine           |\n",
    "| Epinephrine                                                | mg                                                                                                    | Epinephrine Amt       |\n",
    "| Usage of phenylephrine                                     | yes/no                                                                                                | Phenylephrine         |\n",
    "| Phenyleprhine                                              | µg                                                                                                 | Phenylephrine Amt     |\n",
    "| Amount of anesthetic gas                                   | MAC hours                                                                                             | MAC                   |\n",
    "| Propofol at induction                                      | mg                                                                                                    | Propofol Induction    |\n",
    "| Opioids (IV morphine equivalent)                           | mg                                                                                                    | IV Morphine Eq        |\n",
    "| Crystalloids                                               | I                                                                                                     | Crystalloids          |\n",
    "| Colloids                                                   | I                                                                                                     | Colloids              |"
   ]
  },
  {
   "cell_type": "code",
   "execution_count": null,
   "id": "1affbc20-8e9a-4d57-ae3e-b13efdccffc4",
   "metadata": {},
   "outputs": [],
   "source": []
  }
 ],
 "metadata": {
  "kernelspec": {
   "display_name": "Python 3 (ipykernel)",
   "language": "python",
   "name": "python3"
  },
  "language_info": {
   "codemirror_mode": {
    "name": "ipython",
    "version": 3
   },
   "file_extension": ".py",
   "mimetype": "text/x-python",
   "name": "python",
   "nbconvert_exporter": "python",
   "pygments_lexer": "ipython3",
   "version": "3.9.7"
  }
 },
 "nbformat": 4,
 "nbformat_minor": 5
}
